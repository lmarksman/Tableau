{
 "cells": [
  {
   "cell_type": "code",
   "execution_count": 1,
   "id": "9cd57082",
   "metadata": {},
   "outputs": [],
   "source": [
    "import pandas as pd"
   ]
  },
  {
   "cell_type": "code",
   "execution_count": 2,
   "id": "f16b893f",
   "metadata": {},
   "outputs": [],
   "source": [
    "file_202102 = \"CitiBike/JC-202102-citibike-tripdata.csv\"\n",
    "file_202103 = \"CitiBike/JC-202103-citibike-tripdata.csv\"\n",
    "file_202104 = \"CitiBike/JC-202104-citibike-tripdata.csv\"\n",
    "file_202105 = \"CitiBike/JC-202105-citibike-tripdata.csv\"\n",
    "file_202106 = \"CitiBike/JC-202106-citibike-tripdata.csv\"\n",
    "file_202107 = \"CitiBike/JC-202107-citibike-tripdata.csv\"\n",
    "file_202108 = \"CitiBike/JC-202108-citibike-tripdata.csv\"\n",
    "file_202109 = \"CitiBike/JC-202109-citibike-tripdata.csv\""
   ]
  },
  {
   "cell_type": "code",
   "execution_count": 3,
   "id": "da04a4ef",
   "metadata": {},
   "outputs": [],
   "source": [
    "file02_df = pd.read_csv(file_202102)\n",
    "file03_df = pd.read_csv(file_202103)\n",
    "file04_df = pd.read_csv(file_202104)\n",
    "file05_df = pd.read_csv(file_202105)\n",
    "file06_df = pd.read_csv(file_202106)\n",
    "file07_df = pd.read_csv(file_202107)\n",
    "file08_df = pd.read_csv(file_202108)\n",
    "file09_df = pd.read_csv(file_202109)\n",
    "\n",
    "frames = [file02_df, file03_df, file04_df, file05_df, file06_df, file07_df, file08_df, file09_df]\n",
    "result = pd.concat(frames)\n",
    "result.to_csv('2021Records.csv', index=False)"
   ]
  }
 ],
 "metadata": {
  "kernelspec": {
   "display_name": "Python 3",
   "language": "python",
   "name": "python3"
  },
  "language_info": {
   "codemirror_mode": {
    "name": "ipython",
    "version": 3
   },
   "file_extension": ".py",
   "mimetype": "text/x-python",
   "name": "python",
   "nbconvert_exporter": "python",
   "pygments_lexer": "ipython3",
   "version": "3.7.10"
  }
 },
 "nbformat": 4,
 "nbformat_minor": 5
}
